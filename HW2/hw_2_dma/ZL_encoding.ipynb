{
 "cells": [
  {
   "cell_type": "code",
   "execution_count": 1,
   "metadata": {
    "collapsed": true
   },
   "outputs": [],
   "source": [
    "import collections\n",
    "from collections import Counter\n",
    "import math\n",
    "from tqdm import tqdm\n",
    "import matplotlib.pyplot as pylab\n",
    "from matplotlib import pylab\n",
    "from matplotlib.font_manager import FontProperties"
   ]
  },
  {
   "cell_type": "code",
   "execution_count": 2,
   "metadata": {
    "collapsed": true
   },
   "outputs": [],
   "source": [
    "#ZL_code implemented\n",
    "\n",
    "def Z_L_encoding(text_full,i):\n",
    "    \n",
    "    # initializing the final dictionary\n",
    "    index= collections.OrderedDict()\n",
    "    \n",
    "    # text up to length i ( usually full length)\n",
    "    text=text_full[:i]\n",
    "    \n",
    "    # j will represent the index ( as a pure number )\n",
    "    j=1\n",
    "    \n",
    "    # code string will store the text encoded\n",
    "    code=[]\n",
    "    \n",
    "    \n",
    "    while(len(text)>0):\n",
    "        i=0\n",
    "        # at the beginning the prefix is initialized to an empty string\n",
    "        prefix=str()\n",
    "        # i mobile index is gonna cover the entire text\n",
    "        for i in range(len(text)):\n",
    "            # building the prefix adding the first letter\n",
    "            prefix=prefix + str(text[i])\n",
    "            # checking if our just build prefix IS NOT inside the final dictonary \n",
    "            if  prefix  not in index.keys():\n",
    "                \n",
    "                # if NOT INSIDE of corse the prefix is inserted into the INDEX DICTONARY as key with assigned the \n",
    "                # J INDEX VALUE as value\n",
    "                index[prefix]=j\n",
    "                \n",
    "                # we want now to build the future encoded text, made of tuple -- following the ZL encoding algorithm\n",
    "                if len(prefix)>1:\n",
    "                    \n",
    "                    # if the prefix build as more than one character inside we will take the string up to the\n",
    "                    # penultimate character and call this sub-prefix \"remove\"\n",
    "                    remove=prefix[:-1]\n",
    "                    \n",
    "                    # in code we attach then the index of sub-prefix remove plus the last removed character\n",
    "                    code.append(((index[remove]),str(text[i])))\n",
    "             \n",
    "                else:\n",
    "                    # of course if prefix is just a character there will be no sub-prefix so the tuple will be build\n",
    "                    # of 0 and the related character\n",
    "                     code.append((0,str(text[i])))\n",
    "                 \n",
    "                 \n",
    "                # once stored the prefix we can move one filling the next index\n",
    "                j+=1\n",
    "                break\n",
    "        else:\n",
    "            # if the prefix is already inside the INDEX VOCABULARY as key just go on\n",
    "             pass\n",
    "        \n",
    "        # decrease the length of the full text on and on until it ends     \n",
    "        text=text[i+1:]\n",
    "    \n",
    "    # inverting the dictionary -- final structure --> ( index : \"character/string\" )\n",
    "    final_dictionary={v:k for (k, v) in index.items() }  #replace k with values \n",
    "    \n",
    "    return final_dictionary,code\n"
   ]
  },
  {
   "cell_type": "code",
   "execution_count": 3,
   "metadata": {},
   "outputs": [
    {
     "name": "stdout",
     "output_type": "stream",
     "text": [
      "{\\rtf1\\ansi\\ansicpg1252\\cocoartf1404\\cocoasubrtf470\n",
      "{\\fonttbl\\f0\\froman\\fcharset0 Times-Roman;}\n",
      "{\\colortbl;\\red255\\green255\\blue255;\\red0\\green0\\blue0;\\red255\\green255\\blue255;}\n",
      "\\paperw11900\\paperh16840\\margl1440\\margr1440\\vieww10800\\viewh8400\\viewkind0\n",
      "\\deftab720\n",
      "\\pard\\pardeftab720\\sl460\\partightenfactor0\n",
      "\n",
      "\\f0\\fs40 \\cf2 \\cb3 \\expnd0\\expndtw0\\kerning0\n",
      "\\outl0\\strokewidth0 \\strokec2 Two roads diverged in a yellow wood,\\cb1 \\\n",
      "\\cb3 And sorry I could not travel both\\cb1 \\\n",
      "\\cb3 And be one traveler, long I stood\\cb1 \\\n",
      "\\cb3 And looked down one as far as I could\\cb1 \\\n",
      "\\cb3 To where it bent in the undergrowth;\\cb1 \\\n",
      "\\\n",
      "\\cb3 Then took the other, as just as fair,\\cb1 \\\n",
      "\\cb3 And having perhaps the better claim,\\cb1 \\\n",
      "\\cb3 Because it was grassy and wanted wear;\\cb1 \\\n",
      "\\cb3 Though as for that the passing there\\cb1 \\\n",
      "\\cb3 Had worn them really about the same,\\cb1 \\\n",
      "\\\n",
      "\\cb3 And both that morning equally lay\\cb1 \\\n",
      "\\cb3 In leaves no step had trodden black.\\cb1 \\\n",
      "\\cb3 Oh, I kept the first for another day!\\cb1 \\\n",
      "\\cb3 Yet knowing how way leads on to way,\\cb1 \\\n",
      "\\cb3 I doubted if I should ever come back.\\cb1 \\\n",
      "\\\n",
      "\\cb3 I shall be telling this with a sigh\\cb1 \\\n",
      "\\cb3 Somewhere ages and ages hence:\\cb1 \\\n",
      "\\cb3 Two roads diverged in a wood, and I, \\cb1 \\\n",
      "\\cb3 I took the one less traveled by,\\cb1 \\\n",
      "\\cb3 And that has made all the difference.\\\n",
      "}\n"
     ]
    }
   ],
   "source": [
    "with open(\"text_ZL.rtf\",\"r\") as f:\n",
    "         text_full=f.read()\n",
    "# performing ZL encoding in a rich text file (rtf)\n",
    "dictionary,code=Z_L_encoding(text_full,len(text_full))  \n",
    "\n",
    "print(text_full)"
   ]
  },
  {
   "cell_type": "code",
   "execution_count": 4,
   "metadata": {},
   "outputs": [
    {
     "name": "stdout",
     "output_type": "stream",
     "text": [
      "[(0, '{'), (0, '\\\\'), (0, 'r'), (0, 't'), (0, 'f'), (0, '1'), (2, 'a'), (0, 'n'), (0, 's'), (0, 'i'), (7, 'n'), (9, 'i'), (0, 'c'), (0, 'p'), (0, 'g'), (6, '2'), (0, '5'), (0, '2'), (2, 'c'), (0, 'o'), (13, 'o'), (0, 'a'), (3, 't'), (5, '1'), (0, '4'), (0, '0'), (25, '\\\\'), (21, 'c'), (20, 'a'), (9, 'u'), (0, 'b'), (23, 'f'), (25, '7'), (26, '\\n'), (1, '\\\\'), (5, 'o'), (8, 't'), (4, 'b'), (0, 'l'), (2, 'f'), (26, '\\\\'), (5, 'r'), (20, 'm'), (22, 'n'), (40, 'c'), (0, 'h'), (22, 'r'), (9, 'e'), (4, '0'), (0, ' '), (0, 'T'), (10, 'm'), (0, 'e'), (9, '-'), (0, 'R'), (43, 'a'), (8, ';'), (0, '}'), (0, '\\n'), (35, 'c'), (20, 'l'), (20, 'r'), (38, 'l'), (0, ';'), (2, 'r'), (53, 'd'), (18, '5'), (17, '\\\\'), (15, 'r'), (53, 'e'), (8, '2'), (17, '5'), (2, 'b'), (39, 'u'), (53, '2'), (72, ';'), (65, 'e'), (0, 'd'), (41, 'g'), (3, 'e'), (53, 'n'), (41, 'b'), (74, 'e'), (26, ';'), (77, 'd'), (67, '5'), (2, 'g'), (80, 'e'), (71, '5'), (68, 'b'), (83, '2'), (76, '}'), (59, '\\\\'), (14, 'a'), (14, 'e'), (3, 'w'), (6, '1'), (0, '9'), (26, '0'), (2, 'p'), (22, 'p'), (53, 'r'), (46, '1'), (0, '6'), (0, '8'), (25, '0'), (2, 'm'), (47, 'g'), (39, '1'), (25, '4'), (41, 'm'), (108, 'r'), (6, '4'), (106, '\\\\'), (0, 'v'), (10, 'e'), (0, 'w'), (117, '1'), (26, '8'), (99, '\\\\'), (115, 'i'), (53, 'w'), (46, '8'), (106, '0'), (2, 'v'), (116, 'w'), (0, 'k'), (10, 'n'), (78, '0'), (93, 'd'), (53, 'f'), (4, 'a'), (31, '7'), (18, '0'), (93, 'p'), (47, 'd'), (100, 'a'), (3, 'd'), (131, 't'), (22, 'b'), (0, '7'), (134, '\\\\'), (9, 'l'), (25, '6'), (41, 'p'), (47, 't'), (10, 'g'), (46, 't'), (81, 'f'), (22, 'c'), (4, 'o'), (3, '0'), (59, '\\n'), (40, '0'), (40, 's'), (106, ' '), (19, 'f'), (18, ' '), (19, 'b'), (0, '3'), (50, '\\\\'), (53, 'x'), (14, 'n'), (129, '\\\\'), (162, 'p'), (8, 'd'), (4, 'w'), (41, 'k'), (102, 'n'), (128, 'g'), (34, '\\\\'), (20, 'u'), (4, 'l'), (41, 's'), (4, 'r'), (20, 'k'), (122, 'i'), (78, 't'), (46, '0'), (161, 's'), (175, 'o'), (127, 'e'), (13, '2'), (50, 'T'), (117, 'o'), (50, 'r'), (29, 'd'), (9, ' '), (78, 'i'), (115, 'e'), (3, 'g'), (66, ' '), (128, ' '), (22, ' '), (0, 'y'), (53, 'l'), (39, 'o'), (117, ' '), (185, 'o'), (78, ','), (159, '1'), (161, '\\n'), (159, '3'), (50, 'A'), (166, ' '), (9, 'o'), (3, 'r'), (195, ' '), (0, 'I'), (50, 'c'), (172, 'l'), (78, ' '), (8, 'o'), (4, ' '), (175, 'a'), (190, 'l'), (50, 'b'), (20, 't'), (46, '\\\\'), (13, 'b'), (6, ' '), (2, '\\n'), (203, ' '), (0, 'A'), (205, 'b'), (53, ' '), (20, 'n'), (226, 't'), (3, 'a'), (216, 'e'), (3, ','), (50, 'l'), (227, 'g'), (50, 'I'), (50, 's'), (151, 'o'), (78, '\\\\'), (220, '1'), (202, '\\\\'), (220, '3'), (204, 'n'), (212, 'l'), (20, 'o'), (182, 'd'), (50, 'd'), (20, 'w'), (8, ' '), (227, 'e'), (50, 'a'), (188, 'f'), (47, ' '), (22, 's'), (234, ' '), (21, 'u'), (39, 'd'), (201, ' '), (222, '\\\\'), (240, ' '), (51, 'o'), (50, 'w'), (46, 'e'), (80, ' '), (10, 't'), (217, 'e'), (37, ' '), (193, 't'), (261, ' '), (0, 'u'), (166, 'e'), (191, 'r'), (246, 't'), (46, ';'), (256, '\\\\'), (93, '\\n'), (223, 'T'), (261, 'n'), (50, 't'), (243, 'k'), (277, 'h'), (226, 'o'), (4, 'h'), (102, ','), (249, 's'), (50, 'j'), (268, 's'), (214, 'a'), (250, 'a'), (10, 'r'), (0, ','), (273, '\\n'), (223, 'A'), (205, 'h'), (22, 'v'), (170, ' '), (95, 'r'), (46, 'a'), (14, 's'), (279, 'e'), (264, 't'), (4, 'e'), (3, ' '), (13, 'l'), (22, 'i'), (0, 'm'), (289, '\\\\'), (238, ' '), (257, 'c'), (31, '3'), (50, 'B'), (53, 'c'), (22, 'u'), (48, ' '), (263, ' '), (117, 'a'), (188, 'g'), (229, 's'), (9, 'y'), (249, 'n'), (212, 'w'), (44, 't'), (192, 'w'), (53, 'a'), (3, ';'), (290, '\\\\'), (258, 'T'), (46, 'o'), (268, 'g'), (46, ' '), (252, ' '), (36, 'r'), (279, 'a'), (214, 't'), (267, 'p'), (252, 's'), (294, 't'), (261, 'r'), (53, '\\\\'), (306, '\\\\'), (93, 'c'), (308, ' '), (0, 'H'), (22, 'd'), (260, 'o'), (3, 'n'), (298, 'm'), (186, 'e'), (22, 'l'), (39, 'y'), (249, 'b'), (172, 't'), (298, ' '), (9, 'a'), (304, 'e'), (305, 'c'), (31, '1'), (239, '\\n'), (291, 'n'), (212, 'b'), (218, 'h'), (331, 't'), (50, 'm'), (62, 'n'), (294, 'e'), (0, 'q'), (268, 'a'), (39, 'l'), (208, 'l'), (22, 'y'), (324, 'c'), (340, 'I'), (247, 'l'), (322, 'v'), (53, 's'), (50, 'n'), (20, ' '), (9, 't'), (53, 'p'), (50, 'h'), (342, ' '), (181, 'd'), (78, 'e'), (247, 'b'), (39, 'a'), (13, 'k'), (0, '.'), (369, 'b'), (160, ' '), (0, 'O'), (46, ','), (253, 'k'), (377, 't'), (351, 'f'), (288, 's'), (214, 'f'), (62, ' '), (44, 'o'), (281, 'e'), (301, 'd'), (368, '!'), (386, '3'), (50, 'Y'), (53, 't'), (50, 'k'), (213, 'w'), (294, 'h'), (246, ' '), (314, 'y'), (232, 'e'), (342, 's'), (50, 'o'), (247, 't'), (375, 'w'), (368, ','), (400, ' '), (209, ' '), (78, 'o'), (268, 'b'), (300, 'd'), (50, 'i'), (5, ' '), (415, 's'), (326, 'u'), (255, ' '), (53, 'v'), (102, ' '), (21, 'm'), (226, 'b'), (150, 'k'), (385, '\\\\'), (338, '\\n'), (307, 'b'), (387, 'I'), (235, 'h'), (347, 'l'), (264, ' '), (300, 'l'), (39, 'i'), (8, 'g'), (279, 'i'), (188, 'w'), (263, 'h'), (249, ' '), (12, 'g'), (219, 'c'), (355, ' '), (431, '3'), (50, 'S'), (43, 'e'), (117, 'h'), (102, 'e'), (249, 'g'), (373, ' '), (44, 'd'), (451, 'e'), (188, 'h'), (81, 'c'), (53, ':'), (414, 'T'), (185, ' '), (3, 'o'), (409, ' '), (189, 'v'), (102, 'g'), (192, 'i'), (247, 'a'), (343, 'o'), (200, ' '), (453, ' '), (209, ','), (161, 'c'), (445, '\\\\'), (339, 'b'), (432, ' '), (236, 'k'), (351, 'o'), (8, 'e'), (408, 's'), (188, 't'), (229, 'v'), (196, 'e'), (358, 'y'), (354, 'b'), (221, '\\\\'), (472, '3'), (241, 'd'), (360, ' '), (296, 's'), (361, 'a'), (381, ' '), (434, ' '), (397, ' '), (189, 'f'), (5, 'e'), (80, 'n'), (13, 'e'), (429, '\\n')]\n"
     ]
    }
   ],
   "source": [
    "print(code)"
   ]
  },
  {
   "cell_type": "code",
   "execution_count": 5,
   "metadata": {},
   "outputs": [
    {
     "name": "stdout",
     "output_type": "stream",
     "text": [
      "{1: '{', 2: '\\\\', 3: 'r', 4: 't', 5: 'f', 6: '1', 7: '\\\\a', 8: 'n', 9: 's', 10: 'i', 11: '\\\\an', 12: 'si', 13: 'c', 14: 'p', 15: 'g', 16: '12', 17: '5', 18: '2', 19: '\\\\c', 20: 'o', 21: 'co', 22: 'a', 23: 'rt', 24: 'f1', 25: '4', 26: '0', 27: '4\\\\', 28: 'coc', 29: 'oa', 30: 'su', 31: 'b', 32: 'rtf', 33: '47', 34: '0\\n', 35: '{\\\\', 36: 'fo', 37: 'nt', 38: 'tb', 39: 'l', 40: '\\\\f', 41: '0\\\\', 42: 'fr', 43: 'om', 44: 'an', 45: '\\\\fc', 46: 'h', 47: 'ar', 48: 'se', 49: 't0', 50: ' ', 51: 'T', 52: 'im', 53: 'e', 54: 's-', 55: 'R', 56: 'oma', 57: 'n;', 58: '}', 59: '\\n', 60: '{\\\\c', 61: 'ol', 62: 'or', 63: 'tbl', 64: ';', 65: '\\\\r', 66: 'ed', 67: '25', 68: '5\\\\', 69: 'gr', 70: 'ee', 71: 'n2', 72: '55', 73: '\\\\b', 74: 'lu', 75: 'e2', 76: '55;', 77: '\\\\re', 78: 'd', 79: '0\\\\g', 80: 're', 81: 'en', 82: '0\\\\b', 83: 'lue', 84: '0;', 85: '\\\\red', 86: '255', 87: '\\\\g', 88: 'ree', 89: 'n25', 90: '5\\\\b', 91: 'lue2', 92: '55;}', 93: '\\n\\\\', 94: 'pa', 95: 'pe', 96: 'rw', 97: '11', 98: '9', 99: '00', 100: '\\\\p', 101: 'ap', 102: 'er', 103: 'h1', 104: '6', 105: '8', 106: '40', 107: '\\\\m', 108: 'arg', 109: 'l1', 110: '44', 111: '0\\\\m', 112: 'argr', 113: '14', 114: '40\\\\', 115: 'v', 116: 'ie', 117: 'w', 118: 'w1', 119: '08', 120: '00\\\\', 121: 'vi', 122: 'ew', 123: 'h8', 124: '400', 125: '\\\\v', 126: 'iew', 127: 'k', 128: 'in', 129: 'd0', 130: '\\n\\\\d', 131: 'ef', 132: 'ta', 133: 'b7', 134: '20', 135: '\\n\\\\p', 136: 'ard', 137: '\\\\pa', 138: 'rd', 139: 'eft', 140: 'ab', 141: '7', 142: '20\\\\', 143: 'sl', 144: '46', 145: '0\\\\p', 146: 'art', 147: 'ig', 148: 'ht', 149: 'enf', 150: 'ac', 151: 'to', 152: 'r0', 153: '\\n\\n', 154: '\\\\f0', 155: '\\\\fs', 156: '40 ', 157: '\\\\cf', 158: '2 ', 159: '\\\\cb', 160: '3', 161: ' \\\\', 162: 'ex', 163: 'pn', 164: 'd0\\\\', 165: 'exp', 166: 'nd', 167: 'tw', 168: '0\\\\k', 169: 'ern', 170: 'ing', 171: '0\\n\\\\', 172: 'ou', 173: 'tl', 174: '0\\\\s', 175: 'tr', 176: 'ok', 177: 'ewi', 178: 'dt', 179: 'h0', 180: ' \\\\s', 181: 'tro', 182: 'ke', 183: 'c2', 184: ' T', 185: 'wo', 186: ' r', 187: 'oad', 188: 's ', 189: 'di', 190: 've', 191: 'rg', 192: 'ed ', 193: 'in ', 194: 'a ', 195: 'y', 196: 'el', 197: 'lo', 198: 'w ', 199: 'woo', 200: 'd,', 201: '\\\\cb1', 202: ' \\\\\\n', 203: '\\\\cb3', 204: ' A', 205: 'nd ', 206: 'so', 207: 'rr', 208: 'y ', 209: 'I', 210: ' c', 211: 'oul', 212: 'd ', 213: 'no', 214: 't ', 215: 'tra', 216: 'vel', 217: ' b', 218: 'ot', 219: 'h\\\\', 220: 'cb', 221: '1 ', 222: '\\\\\\n', 223: '\\\\cb3 ', 224: 'A', 225: 'nd b', 226: 'e ', 227: 'on', 228: 'e t', 229: 'ra', 230: 'vele', 231: 'r,', 232: ' l', 233: 'ong', 234: ' I', 235: ' s', 236: 'too', 237: 'd\\\\', 238: 'cb1', 239: ' \\\\\\n\\\\', 240: 'cb3', 241: ' An', 242: 'd l', 243: 'oo', 244: 'ked', 245: ' d', 246: 'ow', 247: 'n ', 248: 'one', 249: ' a', 250: 's f', 251: 'ar ', 252: 'as', 253: ' I ', 254: 'cou', 255: 'ld', 256: '\\\\cb1 ', 257: '\\\\\\n\\\\', 258: 'cb3 ', 259: 'To', 260: ' w', 261: 'he', 262: 're ', 263: 'it', 264: ' be', 265: 'nt ', 266: 'in t', 267: 'he ', 268: 'u', 269: 'nde', 270: 'rgr', 271: 'owt', 272: 'h;', 273: '\\\\cb1 \\\\', 274: '\\n\\\\\\n', 275: '\\\\cb3 T', 276: 'hen', 277: ' t', 278: 'ook', 279: ' th', 280: 'e o', 281: 'th', 282: 'er,', 283: ' as', 284: ' j', 285: 'us', 286: 't a', 287: 's fa', 288: 'ir', 289: ',', 290: '\\\\cb1 \\\\\\n', 291: '\\\\cb3 A', 292: 'nd h', 293: 'av', 294: 'ing ', 295: 'per', 296: 'ha', 297: 'ps', 298: ' the', 299: ' bet', 300: 'te', 301: 'r ', 302: 'cl', 303: 'ai', 304: 'm', 305: ',\\\\', 306: 'cb1 ', 307: '\\\\\\n\\\\c', 308: 'b3', 309: ' B', 310: 'ec', 311: 'au', 312: 'se ', 313: 'it ', 314: 'wa', 315: 's g', 316: 'ras', 317: 'sy', 318: ' an', 319: 'd w', 320: 'ant', 321: 'ed w', 322: 'ea', 323: 'r;', 324: '\\\\cb1 \\\\\\n\\\\', 325: 'cb3 T', 326: 'ho', 327: 'ug', 328: 'h ', 329: 'as ', 330: 'for', 331: ' tha', 332: 't t', 333: 'he p', 334: 'ass', 335: 'ing t', 336: 'her', 337: 'e\\\\', 338: 'cb1 \\\\', 339: '\\n\\\\c', 340: 'b3 ', 341: 'H', 342: 'ad', 343: ' wo', 344: 'rn', 345: ' them', 346: ' re', 347: 'al', 348: 'ly', 349: ' ab', 350: 'out', 351: ' the ', 352: 'sa', 353: 'me', 354: ',\\\\c', 355: 'b1', 356: ' \\\\\\n\\\\\\n', 357: '\\\\cb3 An', 358: 'd b', 359: 'oth', 360: ' that', 361: ' m', 362: 'orn', 363: 'ing e', 364: 'q', 365: 'ua', 366: 'll', 367: 'y l', 368: 'ay', 369: '\\\\cb1 \\\\\\n\\\\c', 370: 'b3 I', 371: 'n l', 372: 'eav', 373: 'es', 374: ' n', 375: 'o ', 376: 'st', 377: 'ep', 378: ' h', 379: 'ad ', 380: 'trod', 381: 'de', 382: 'n b', 383: 'la', 384: 'ck', 385: '.', 386: '\\\\cb1 \\\\\\n\\\\cb', 387: '3 ', 388: 'O', 389: 'h,', 390: ' I k', 391: 'ept', 392: ' the f', 393: 'irs', 394: 't f', 395: 'or ', 396: 'ano', 397: 'the', 398: 'r d', 399: 'ay!', 400: '\\\\cb1 \\\\\\n\\\\cb3', 401: ' Y', 402: 'et', 403: ' k', 404: 'now', 405: 'ing h', 406: 'ow ', 407: 'way', 408: ' le', 409: 'ads', 410: ' o', 411: 'n t', 412: 'o w', 413: 'ay,', 414: '\\\\cb1 \\\\\\n\\\\cb3 ', 415: 'I ', 416: 'do', 417: 'ub', 418: 'ted', 419: ' i', 420: 'f ', 421: 'I s', 422: 'hou', 423: 'ld ', 424: 'ev', 425: 'er ', 426: 'com', 427: 'e b', 428: 'ack', 429: '.\\\\', 430: 'cb1 \\\\\\n', 431: '\\\\\\n\\\\cb', 432: '3 I', 433: ' sh', 434: 'all', 435: ' be ', 436: 'tel', 437: 'li', 438: 'ng', 439: ' thi', 440: 's w', 441: 'ith', 442: ' a ', 443: 'sig', 444: 'h\\\\c', 445: 'b1 ', 446: '\\\\\\n\\\\cb3', 447: ' S', 448: 'ome', 449: 'wh', 450: 'ere', 451: ' ag', 452: 'es ', 453: 'and', 454: ' age', 455: 's h', 456: 'enc', 457: 'e:', 458: '\\\\cb1 \\\\\\n\\\\cb3 T', 459: 'wo ', 460: 'ro', 461: 'ads ', 462: 'div', 463: 'erg', 464: 'ed i', 465: 'n a', 466: ' woo', 467: 'd, ', 468: 'and ', 469: 'I,', 470: ' \\\\c', 471: 'b1 \\\\', 472: '\\n\\\\cb', 473: '3 I ', 474: 'took', 475: ' the o', 476: 'ne', 477: ' les', 478: 's t', 479: 'rav', 480: 'ele', 481: 'd by', 482: ',\\\\cb', 483: '1 \\\\', 484: '\\n\\\\cb3', 485: ' And', 486: ' that ', 487: 'has', 488: ' ma', 489: 'de ', 490: 'all ', 491: 'the ', 492: 'dif', 493: 'fe', 494: 'ren', 495: 'ce', 496: '.\\\\\\n'}\n"
     ]
    }
   ],
   "source": [
    "print(dictionary)"
   ]
  },
  {
   "cell_type": "code",
   "execution_count": 6,
   "metadata": {
    "collapsed": true
   },
   "outputs": [],
   "source": [
    "#compute number of bit compressed file\n",
    "\n",
    "\n",
    "flatten_code=[k for x in code for k in x]\n",
    "\n",
    "ascii_code=[]\n",
    "\n",
    "for char in flatten_code:\n",
    "   \n",
    "   \n",
    "    if type(char)==str:\n",
    "       \n",
    "       \n",
    "        ascii_code.append(format(ord(char),\"b\"))\n",
    "\n",
    "    else:\n",
    "       \n",
    "        ascii_code.append(format(int(char),\"b\"))\n",
    "\n",
    "\n",
    "        \n",
    "number_bit_ZL=len([digit for x in ascii_code for digit in x])\n",
    "\n",
    "\n"
   ]
  },
  {
   "cell_type": "code",
   "execution_count": 7,
   "metadata": {
    "collapsed": true
   },
   "outputs": [],
   "source": [
    " #compute number of bit of text_full\n",
    "\n",
    "    \n",
    "text_bit_full=[] \n",
    "       \n",
    "for char in text_full:\n",
    "   \n",
    "    if type(char)==str:\n",
    "                text_bit_full.append(format(ord(char),\"b\"))  #ord compute ascii code and format binary base \n",
    "    \n",
    "    else:\n",
    "                text_bit_full.append(format(int(char),\"b\"))\n",
    "             \n",
    "\n",
    "number_bit_text_full=len([digit for x in text_bit_full for digit in x])\n",
    "\n",
    "#ratio\n",
    "gain=round((1- number_bit_ZL/number_bit_text_full)*100,1)"
   ]
  },
  {
   "cell_type": "code",
   "execution_count": 8,
   "metadata": {},
   "outputs": [
    {
     "name": "stdout",
     "output_type": "stream",
     "text": [
      "number_bit_in_ZL:      6280\n",
      "number_bit_text_full:  8895\n",
      "compression_ratio:     29.4 %\n"
     ]
    }
   ],
   "source": [
    "print('{} {}'.format( \"number_bit_in_ZL:     \",number_bit_ZL))   \n",
    "print('{} {}'.format( \"number_bit_text_full: \",number_bit_text_full))                \n",
    "print('{} {} {}'.format('compression_ratio:    ',gain, \"%\"))"
   ]
  },
  {
   "cell_type": "code",
   "execution_count": 9,
   "metadata": {
    "collapsed": true
   },
   "outputs": [],
   "source": [
    "#entropy and efficiency\n",
    "\n",
    "entropy_eff_test=[]\n",
    "\n",
    "# Counter --> counting hashable objects\n",
    "t_c=Counter(text_full)\n",
    "l=len(text_full)\n",
    "\n",
    "# normalizing each character/string/symbol present in the text \n",
    "d=list(map(lambda x: x/l,t_c.values()))\n",
    "\n",
    "# entropy evaluation\n",
    "entropy=round(sum(list(map(lambda x: -x*math.log(x,2),d))),2)\n",
    "\n",
    "# efficency evaluation\n",
    "Eff=round(entropy/math.log(len(d),2),2)\n",
    "entropy_eff_test.append((entropy,Eff))"
   ]
  },
  {
   "cell_type": "code",
   "execution_count": 10,
   "metadata": {},
   "outputs": [
    {
     "name": "stdout",
     "output_type": "stream",
     "text": [
      "\n",
      "test_file           entropy   efficiency     \n",
      "----------------------------------------\n",
      "\n",
      "txt_ZL:                4.82        0.83\n",
      "\n"
     ]
    }
   ],
   "source": [
    "print()\n",
    "print(\"{0:20}{1:10}{2:15}\".format(\"test_file\",\"entropy\",\"efficiency\"))\n",
    "print (\"-\"*40)                                 \n",
    "print()\n",
    "print(\"{0:20}{1:>7}{2:>12}\".format('txt_ZL'+':',entropy_eff_test[0][0],entropy_eff_test[0][1]))\n",
    "print()"
   ]
  },
  {
   "cell_type": "code",
   "execution_count": 11,
   "metadata": {
    "collapsed": true
   },
   "outputs": [],
   "source": [
    "#compression_ratio function\n",
    "\n",
    "\n",
    "def compression_ratio(file,text_length):\n",
    "    \n",
    "    \n",
    "    dictionary,code=Z_L_encoding(file,text_length)\n",
    "    flatten_code=[k for x in code for k in x]\n",
    "    ascii_code=[]\n",
    "\n",
    "    for char in flatten_code:\n",
    "       \n",
    "       \n",
    "        if type(char)==str:\n",
    "           \n",
    "           \n",
    "            ascii_code.append(format(ord(char),\"b\"))      #ord transform char in ascii code\n",
    "                                                         #format transform number in binary\n",
    "    \n",
    "        else:\n",
    "           \n",
    "            ascii_code.append(format(int(char),\"b\"))\n",
    "    \n",
    "    number_bit_ZL=len([digit for x in ascii_code for digit in x])\n",
    "    \n",
    "    \n",
    "    text_bit_full=[] \n",
    "       \n",
    "    for char in file[:text_length]:\n",
    "       \n",
    "        if type(char)==str:\n",
    "           \n",
    "           \n",
    "            text_bit_full.append(format(ord(char),\"b\"))  \n",
    "        else:\n",
    "           \n",
    "            text_bit_full.append(format(int(char),\"b\"))\n",
    "    \n",
    "    number_bit_text_full=len([digit for x in text_bit_full for digit in x])\n",
    "    gain=round((1- number_bit_ZL/number_bit_text_full)*100,1)\n",
    "    \n",
    "    \n",
    "    return  gain"
   ]
  },
  {
   "cell_type": "code",
   "execution_count": 12,
   "metadata": {},
   "outputs": [
    {
     "name": "stdout",
     "output_type": "stream",
     "text": [
      "ï»¿IULI CAESARIS DE BELLO GALLICO COMMENTARIUS PRIMUS\n",
      "\n",
      "\n",
      "GALLIA est omnis divisa in partes tres, quarum unam incolunt Belgae,\n",
      "aliam Aquitani, tertiam qui ipsorum lingua Celtae, nostra Galli\n",
      "appellantur. Hi omnes lingua, institutis, legibus inter se differunt.\n",
      "\n",
      "Gallos ab Aquitanis Garumna flumen, a Belgis Matrona et Sequana dividit.\n",
      "\n",
      "Horum omnium fortissimi sunt Belgae, propterea quod a cultu atque\n",
      "humanitate provinciae longissime absunt, minimeque ad eos mercatores saepe\n",
      "commeant atque ea quae ad effeminandos animos pertinent important,\n",
      "proximique sunt Germanis, qui trans Rhenum incolunt, quibuscum continenter\n",
      "bellum gerunt. Qua de causa Helvetii quoque reliquos Gallos virtute\n",
      "praecedunt, quod fere cotidianis proeliis cum Germanis contendunt, cum aut\n",
      "suis finibus eos prohibent aut ipsi in eorum finibus bellum gerunt.\n",
      "\n",
      "[Eorum una, pars, quam Gallos obtinere dictum est, initium capit a flumine\n",
      "Rhodano, continetur Garumna flumine, Oceano, finibus Belgarum, attingit\n",
      "etiam ab Sequanis et Hel\n"
     ]
    }
   ],
   "source": [
    "#lorem ipsum\n",
    "\n",
    "with open(\"de_bello_gallico.txt\",\"r\") as f:\n",
    "        text_full_1=f.read()\n",
    " \n",
    "print(text_full_1[:1000])"
   ]
  },
  {
   "cell_type": "code",
   "execution_count": 13,
   "metadata": {},
   "outputs": [
    {
     "name": "stdout",
     "output_type": "stream",
     "text": [
      "XOYWoORDe3LNkwn9\n",
      "WwGawWJ7w0k9Te2t\n",
      "Hnj24gdDglPLjF7g\n",
      "a78QcEgMXkKy5CD5\n",
      "xmOoRPtz6UD8emLm\n",
      "DELpwgQAWo8851bf\n",
      "yP2StwOf6xNPmtim\n",
      "s0HayhpS8lEopXBY\n",
      "8zEsx7ai3IRdxdSn\n",
      "NWr0V7L65gU5IAtE\n",
      "wbTapDeL8u5UJvgB\n",
      "UZxH4Xesra9DSzG9\n",
      "f9SLJgzblib3ai0O\n",
      "Gi8PuVp9MpXObeXq\n",
      "TjzK9IP8NeCYQj1t\n",
      "wn12nIi7Y2EVh9gp\n",
      "fd4nFE3He8xK0eqw\n",
      "7zO8Z7FMToYnD8Am\n",
      "pjp1pEotB9uEQTcE\n",
      "UiwkZdBCQlwF19Ok\n",
      "C7sTgMzmxdX8zpXc\n",
      "HtkNVUJYw1AajEtc\n",
      "YEfnUCqXu2fZlez5\n",
      "PZoheE6ZGDxkYYaD\n",
      "14N4DSPTOIW2PQGM\n",
      "csZUlkhjHoMIDm8a\n",
      "DRdVBOCKlYZn54mv\n",
      "UHKK7ZDxpTFb8Lb8\n",
      "bNysMDXJNmwIscPT\n",
      "MBvQxrK\n"
     ]
    }
   ],
   "source": [
    "#Random_strings\n",
    "\n",
    "with open(\"random_string.txt\",\"r\") as f:\n",
    "        text_full_2=f.read()\n",
    "        \n",
    "print(text_full_2[:500])"
   ]
  },
  {
   "cell_type": "code",
   "execution_count": 14,
   "metadata": {},
   "outputs": [
    {
     "name": "stdout",
     "output_type": "stream",
     "text": [
      "﻿CHAPTER I. Down the Rabbit-Hole\n",
      "\n",
      "Alice was beginning to get very tired of sitting by her sister on the\n",
      "bank, and of having nothing to do: once or twice she had peeped into the\n",
      "book her sister was reading, but it had no pictures or conversations in\n",
      "it, ‘and what is the use of a book,’ thought Alice ‘without pictures or\n",
      "conversations?’\n",
      "\n",
      "So she was considering in her own mind (as well as she could, for the\n",
      "hot day made her feel very sleepy and stupid), whether the pleasure\n",
      "of making a daisy-chain would be worth the trouble of getting up and\n",
      "picking the daisies, when suddenly a White Rabbit with pink eyes ran\n",
      "close by her.\n",
      "\n",
      "There was nothing so VERY remarkable in that; nor did Alice think it so\n",
      "VERY much out of the way to hear the Rabbit say to itself, ‘Oh dear!\n",
      "Oh dear! I shall be late!’ (when she thought it over afterwards, it\n",
      "occurred to her that she ought to have wondered at this, but at the time\n",
      "it all seemed quite natural); but when the Rabbit actually TOOK A WATCH\n",
      "OUT OF ITS WAISTC\n"
     ]
    }
   ],
   "source": [
    "#Alice_in_Wonderland\n",
    "\n",
    "with open(\"alice_in_wonderland_english.txt\",\"r\", encoding=\"utf8\") as f:\n",
    "        text_full_3=f.read()\n",
    "        \n",
    "print(text_full_3[:1000])\n"
   ]
  },
  {
   "cell_type": "code",
   "execution_count": 15,
   "metadata": {},
   "outputs": [
    {
     "name": "stdout",
     "output_type": "stream",
     "text": [
      "﻿Quel ramo del lago di Como, che volge a mezzogiorno, tra due catene\n",
      "non interrotte di monti, tutte a seni e a golfi, a seconda dello\n",
      "sporgere e del rientrare di quelli, vien, quasi a un tratto, a\n",
      "ristringersi, e a prender corso e figura di fiume, tra un promontorio\n",
      "a destra, e un'ampia costiera dall'altra parte; e il ponte, che ivi\n",
      "congiunge le due rive, par che renda ancor più sensibile all'occhio\n",
      "questa trasformazione, e segni il punto in cui il lago cessa, e\n",
      "l'Adda rincomincia, per ripigliar poi nome di lago dove le rive,\n",
      "allontanandosi di nuovo, lascian l'acqua distendersi e rallentarsi in\n",
      "nuovi golfi e in nuovi seni. La costiera, formata dal deposito di tre\n",
      "grossi torrenti, scende appoggiata a due monti contigui, l'uno detto di\n",
      "san Martino, l'altro, con voce lombarda, il _Resegone_, dai molti suoi\n",
      "cocuzzoli in fila, che in vero lo fanno somigliare a una sega: talchè\n",
      "non è chi, al primo vederlo, purchè sia di fronte, come per esempio\n",
      "di su le mura di Milano che guardano a settentr\n"
     ]
    }
   ],
   "source": [
    "#promessi sposi\n",
    "\n",
    "with open(\"promessi_sposi.txt\",\"r\",encoding=\"utf8\") as f:\n",
    "        text_full_4=f.read()\n",
    "        \n",
    "print(text_full_4[:1000])"
   ]
  },
  {
   "cell_type": "code",
   "execution_count": 16,
   "metadata": {},
   "outputs": [
    {
     "name": "stdout",
     "output_type": "stream",
     "text": [
      "﻿Hamburger Ausgabe, Band 6\n",
      "\n",
      "Zweites Buch\n",
      "\n",
      "\n",
      "Am 20. Oktober 1771\n",
      "\n",
      "Gestern sind wir hier angelangt.  Der Gesandte ist unpaß und wird sich\n",
      "also einige Tage einhalten.  Wenn er nur nicht so unhold wäre, wär'\n",
      "alles gut.  Ich merke, ich merke, das Schicksal hat mir harte\n",
      "Prüfungen zugedacht.  Doch guten Muts!  Ein leichter Sinn trägt alles!\n",
      "Ein leichter Sinn?  Das macht mich zu lachen, wie das Wort in meine\n",
      "Feder kommt.  O ein bißchen leichteres Blut würde mich zum\n",
      "Glücklichsten unter der Sonne machen.  Was!  Da, wo andere mit ihrem\n",
      "bißchen Kraft und Talent vor mir in behaglicher Selbstgefälligkeit\n",
      "herumschwadronieren, verzweifle ich an meiner Kraft, an meinen Gaben?\n",
      "Guter Gott, der du mir das alles schenktest, warum hieltest du nicht\n",
      "die Hälfte zurück und gabst mir Selbstvertrauen und Genügsamkeit?\n",
      "\n",
      "Geduld!  Geduld!  Es wird besser werden.  Denn ich sage dir, Lieber,\n",
      "du hast recht.  Seit ich unter dem Volke alle Tage herumgetrieben\n",
      "werde und sehe, was sie tun und wie sie's treiben, stehe ich\n"
     ]
    }
   ],
   "source": [
    "#i dolori del giovane werther\n",
    "\n",
    "with open(\"i_dolori_del_giovane_werther.txt\",\"r\",encoding=\"utf8\") as f:\n",
    "        text_full_5=f.read()\n",
    "        \n",
    "print(text_full_5[:1000])\n",
    "\n"
   ]
  },
  {
   "cell_type": "code",
   "execution_count": 17,
   "metadata": {},
   "outputs": [
    {
     "name": "stderr",
     "output_type": "stream",
     "text": [
      "100%|██████████████████████████████████████████████████████████████████████████████████| 15/15 [00:03<00:00,  4.30it/s]\n"
     ]
    }
   ],
   "source": [
    "compression_de_bello_gallico=[]\n",
    "compression_random_strings=[]\n",
    "compression_alice=[]\n",
    "compression_promessi_sposi=[]\n",
    "compression_i_dolori_del_giovane_werther=[]\n",
    "\n",
    "# trying to perform now the ZL encoding algorithm with different starting length (?)\n",
    "step=[5,10,20,30,40,50,100,1000,10000,20000,30000,40000,50000,60000,70000]\n",
    "\n",
    "for i in tqdm(step):\n",
    "    \n",
    "    compression_de_bello_gallico.append(compression_ratio(text_full_1,i))\n",
    "    compression_random_strings.append(compression_ratio(text_full_2,i))\n",
    "    compression_alice.append(compression_ratio(text_full_3,i))\n",
    "    compression_promessi_sposi.append(compression_ratio(text_full_4,i))\n",
    "    compression_i_dolori_del_giovane_werther.append(compression_ratio(text_full_5,i))\n"
   ]
  },
  {
   "cell_type": "code",
   "execution_count": 18,
   "metadata": {},
   "outputs": [
    {
     "name": "stdout",
     "output_type": "stream",
     "text": [
      "\n",
      "compression_de_bello_gallico:            [-13.2, -5.6, 1.4, 9.6, 7.6, 12.1, 12.2, 25.0, 35.9, 38.9, 40.3, 41.5, 42.4, 43.0, 43.5]\n",
      "compression_random_strings:              [-14.3, -4.3, -5.2, -1.0, -0.4, 0.9, 3.0, 8.6, 11.3, 11.2, 10.9, 10.7, 10.5, 10.5, 10.4]\n",
      "compression_alice_in_wonderland:         [-11.4, -12.8, -8.3, -3.3, -1.1, 3.5, 11.8, 26.7, 37.1, 39.6, 40.8, 41.6, 42.2, 42.9, 43.5]\n",
      "compression_promessi_sposi               [-11.4, -12.8, 4.1, 7.5, 10.0, 13.2, 19.2, 30.8, 37.5, 38.7, 39.8, 40.5, 41.0, 41.6, 42.0]\n",
      "compression_dolori_del_giovane_werther:  [-11.4, -2.5, 2.1, 1.9, 4.7, 5.4, 11.1, 27.0, 37.3, 39.2, 40.3, 41.2, 41.7, 42.1, 42.5]\n",
      "\n"
     ]
    }
   ],
   "source": [
    "print()\n",
    "print('{} {}'.format('compression_de_bello_gallico:           ', compression_de_bello_gallico))   \n",
    "print('{} {}'.format('compression_random_strings:             ', compression_random_strings))                \n",
    "print('{} {}'.format('compression_alice_in_wonderland:        ', compression_alice))\n",
    "print('{} {}'.format('compression_promessi_sposi              ', compression_promessi_sposi ))\n",
    "print('{} {}'.format('compression_dolori_del_giovane_werther: ', compression_i_dolori_del_giovane_werther ))\n",
    "print()"
   ]
  },
  {
   "cell_type": "code",
   "execution_count": 19,
   "metadata": {},
   "outputs": [
    {
     "data": {
      "image/png": "[encoded data removed]",
      "text/plain": [
       "<matplotlib.figure.Figure at 0x2141fbe4a90>"
      ]
     },
     "metadata": {},
     "output_type": "display_data"
    }
   ],
   "source": [
    "pylab.plot(step,compression_de_bello_gallico,label= \"de_bello_gallico(latin)\")\n",
    "pylab.plot(step,compression_random_strings,label=\"random_strings\")\n",
    "pylab.plot(step,compression_alice,label=\"alice_in_wonderland (english)\")\n",
    "pylab.plot(step,compression_promessi_sposi,label=\"promessi_sposi(italian)\")\n",
    "pylab.plot(step,compression_i_dolori_del_giovane_werther,label='dolori_del_giovane_werther(german) ')\n",
    "pylab.xlabel('length of text')\n",
    "pylab.ylabel('compression ratio')\n",
    "pylab.title('compression growth')\n",
    "pylab.legend(loc=9, bbox_to_anchor=(1.5, 0.8))\n",
    "pylab.show()"
   ]
  },
  {
   "cell_type": "code",
   "execution_count": 20,
   "metadata": {
    "scrolled": true
   },
   "outputs": [
    {
     "data": {
      "image/png": "[encoded data removed]",
      "text/plain": [
       "<matplotlib.figure.Figure at 0x2141fcd7f60>"
      ]
     },
     "metadata": {},
     "output_type": "display_data"
    }
   ],
   "source": [
    "pylab.plot(step,compression_de_bello_gallico,label= \"de_bello_gallico (latin)\")\n",
    "pylab.plot(step,compression_random_strings,label=\"random_strings\")\n",
    "pylab.plot(step,compression_alice,label=\"alice_in_wonderland (english)\")\n",
    "pylab.plot(step,compression_promessi_sposi,label=\"promessi_sposi(italian)\")\n",
    "pylab.plot(step,compression_i_dolori_del_giovane_werther,label='dolori_del_giovane_werther(german) ')\n",
    "pylab.xlabel('length of text')\n",
    "pylab.xscale('log')    \n",
    "pylab.xlabel('length of text')\n",
    "pylab.ylabel('compression ratio')\n",
    "pylab.title('compression growth log_step')\n",
    "pylab.legend(loc=9, bbox_to_anchor=(1.5, 0.8))\n",
    "pylab.show()"
   ]
  },
  {
   "cell_type": "code",
   "execution_count": 21,
   "metadata": {
    "collapsed": true
   },
   "outputs": [],
   "source": [
    "entropy_eff={}\n",
    "text=[\"de_bello_gallico(latin)\",\"random_strings\",\"alice_in_wonderland (english)\",\"promessi_sposi(italian)\",\n",
    "        'dolori_del_giovane_werther(german)']\n",
    "\n",
    "for i in range(1,6):\n",
    "    t=eval('text_full_'+str(i))\n",
    "    l=len(t)\n",
    "    t_c=Counter(t)\n",
    "    d=list(map(lambda x: x/l,t_c.values()))\n",
    "    entropy=round(sum(list(map(lambda x: -x*math.log(x,2),d))),2)\n",
    "    Eff=round(entropy/math.log(len(d),2),2)\n",
    "    entropy_eff[text[i-1]]=(entropy,Eff)"
   ]
  },
  {
   "cell_type": "code",
   "execution_count": 22,
   "metadata": {},
   "outputs": [
    {
     "name": "stdout",
     "output_type": "stream",
     "text": [
      "text                                    entropy   efficiency     \n",
      "------------------------------------------------------------------\n",
      "de_bello_gallico(latin):                   4.29        0.72\n",
      "random_strings:                            5.93        0.99\n",
      "alice_in_wonderland (english):             4.57        0.74\n",
      "promessi_sposi(italian):                   4.41        0.68\n",
      "dolori_del_giovane_werther(german):        4.52        0.71\n"
     ]
    }
   ],
   "source": [
    "print(\"{0:40}{1:10}{2:15}\".format(\"text\",\"entropy\",\"efficiency\"))\n",
    "print (\"-\"*66)                                 \n",
    "for k,v in entropy_eff.items():\n",
    "    print(\"{0:40}{1:>7}{2:>12}\".format(str(k)+':',v[0],v[1]))"
   ]
  },
  {
   "cell_type": "code",
   "execution_count": 23,
   "metadata": {},
   "outputs": [
    {
     "name": "stdout",
     "output_type": "stream",
     "text": [
      "dict_values([(4.29, 0.72), (5.93, 0.99), (4.57, 0.74), (4.41, 0.68), (4.52, 0.71)])\n"
     ]
    }
   ],
   "source": [
    "print(entropy_eff.values())"
   ]
  },
  {
   "cell_type": "code",
   "execution_count": 24,
   "metadata": {
    "collapsed": true
   },
   "outputs": [],
   "source": [
    "# Alice in Wonderland different languages\n",
    "with open(\"alice_in_wonderland_english.txt\",\"r\",encoding=\"utf8\") as f:\n",
    "        text_1=f.read()\n",
    "        \n",
    "with open(\"alice_in_wonderland_ita.txt\",\"r\",encoding=\"utf8\") as f:\n",
    "        text_2=f.read()\n",
    "        \n",
    "with open(\"alice_in_wonderland_german.txt\",\"r\",encoding=\"utf8\") as f:\n",
    "        text_3=f.read()\n",
    "\n",
    "        \n",
    "    "
   ]
  },
  {
   "cell_type": "code",
   "execution_count": 25,
   "metadata": {},
   "outputs": [
    {
     "name": "stderr",
     "output_type": "stream",
     "text": [
      "100%|██████████████████████████████████████████████████████████████████████████████████| 16/16 [00:03<00:00,  4.94it/s]\n"
     ]
    }
   ],
   "source": [
    "compression_alice_eng=[]\n",
    "compression_alice_ita=[]\n",
    "compression_alice_german=[]\n",
    "\n",
    "step=[5,10,20,30,40,50,100,1000,10000,20000,30000,40000,50000,60000,70000,len(text_1)]\n",
    "\n",
    "for i in tqdm(step):\n",
    "    \n",
    "    compression_alice_eng.append(compression_ratio(text_1,i))\n",
    "    compression_alice_ita.append(compression_ratio(text_2,i))\n",
    "    compression_alice_german.append(compression_ratio(text_3,i))\n",
    "\n",
    "\n"
   ]
  },
  {
   "cell_type": "code",
   "execution_count": 26,
   "metadata": {},
   "outputs": [
    {
     "name": "stdout",
     "output_type": "stream",
     "text": [
      "\n",
      "compression_alice_eng:      [-11.4, -12.8, -8.3, -3.3, -1.1, 3.5, 11.8, 26.7, 37.1, 39.6, 40.8, 41.6, 42.2, 42.9, 43.5, 46.1]\n",
      "compression_alice_ita:      [-11.4, -5.1, 0.0, 10.5, 8.9, 8.8, 10.6, 24.7, 35.6, 37.9, 39.2, 40.5, 41.0, 41.5, 42.0, 44.4]\n",
      "compression_alice_german:   [-11.4, -5.1, -0.7, 6.7, 10.8, 12.1, 17.5, 28.8, 37.4, 39.4, 40.1, 42.5, 42.8, 43.2, 43.7, 45.8]\n",
      "\n"
     ]
    }
   ],
   "source": [
    "print()\n",
    "print('{} {}'.format('compression_alice_eng:     ', compression_alice_eng))   \n",
    "print('{} {}'.format('compression_alice_ita:     ', compression_alice_ita))                \n",
    "print('{} {}'.format('compression_alice_german:  ', compression_alice_german))\n",
    "print()"
   ]
  },
  {
   "cell_type": "code",
   "execution_count": 27,
   "metadata": {},
   "outputs": [
    {
     "data": {
      "image/png": "[encoded data removed]",
      "text/plain": [
       "<matplotlib.figure.Figure at 0x214200873c8>"
      ]
     },
     "metadata": {},
     "output_type": "display_data"
    }
   ],
   "source": [
    "pylab.plot(step,compression_alice_eng,label= \"alice_eng\")\n",
    "pylab.plot(step,compression_alice_ita,label=\"alice_ita\")\n",
    "pylab.plot(step,compression_alice_german,label=\"alice_german\")\n",
    "pylab.xlabel('length of text')\n",
    "pylab.xscale('log')    \n",
    "pylab.xlabel('length of text')\n",
    "pylab.ylabel('compression ratio')\n",
    "pylab.title('compression growth log_step')\n",
    "pylab.legend(loc=9, bbox_to_anchor=(1.5, 0.8))\n",
    "pylab.show()"
   ]
  },
  {
   "cell_type": "code",
   "execution_count": 28,
   "metadata": {
    "collapsed": true
   },
   "outputs": [],
   "source": [
    "entropy_eff_alice={}\n",
    "text_alice=['alice_eng','alice_ita','alice_german']\n",
    "for j in range(1,4):\n",
    "    t=eval('text_'+str(j))\n",
    "    l=len(t)\n",
    "    t_c=Counter(t)\n",
    "    d=list(map(lambda x: x/l,t_c.values()))\n",
    "    entropy=round(sum(list(map(lambda x: -x*math.log(x,2),d))),2)\n",
    "    Eff=round(entropy/math.log(len(d),2),2)\n",
    "    entropy_eff_alice[text_alice[j-1]]=(entropy,Eff)"
   ]
  },
  {
   "cell_type": "code",
   "execution_count": 29,
   "metadata": {},
   "outputs": [
    {
     "name": "stdout",
     "output_type": "stream",
     "text": [
      "\n",
      "text                entropy   efficiency     \n",
      "----------------------------------------\n",
      "alice_eng:             4.57        0.74\n",
      "alice_ita:             4.53        0.73\n",
      "alice_german:          4.59        0.73\n",
      "\n"
     ]
    }
   ],
   "source": [
    "print()\n",
    "print(\"{0:20}{1:10}{2:15}\".format(\"text\",\"entropy\",\"efficiency\"))\n",
    "print (\"-\"*40)                                 \n",
    "for k,v in entropy_eff_alice.items():\n",
    "    print(\"{0:20}{1:>7}{2:>12}\".format(str(k)+':',v[0],v[1]))\n",
    "print()"
   ]
  },
  {
   "cell_type": "code",
   "execution_count": null,
   "metadata": {
    "collapsed": true
   },
   "outputs": [],
   "source": []
  }
 ],
 "metadata": {
  "kernelspec": {
   "display_name": "Python 3",
   "language": "python",
   "name": "python3"
  },
  "language_info": {
   "codemirror_mode": {
    "name": "ipython",
    "version": 3
   },
   "file_extension": ".py",
   "mimetype": "text/x-python",
   "name": "python",
   "nbconvert_exporter": "python",
   "pygments_lexer": "ipython3",
   "version": "3.6.1"
  }
 },
 "nbformat": 4,
 "nbformat_minor": 2
}
